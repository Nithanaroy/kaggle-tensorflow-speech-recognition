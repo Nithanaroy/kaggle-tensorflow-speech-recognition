{
 "cells": [
  {
   "cell_type": "markdown",
   "metadata": {},
   "source": [
    "# Audio Recognition using Tensorflow\n",
    "\n",
    "This approach uses CNN to build a classifier for audio inputs"
   ]
  },
  {
   "cell_type": "markdown",
   "metadata": {},
   "source": [
    "## Import necessary modules"
   ]
  },
  {
   "cell_type": "code",
   "execution_count": 1,
   "metadata": {},
   "outputs": [],
   "source": [
    "import numpy as np\n",
    "import matplotlib.pyplot as plt\n",
    "import tensorflow as tf\n",
    "from tensorflow.python.framework import ops\n",
    "from utils import *\n",
    "from datetime import datetime\n",
    "from time import time\n",
    "from tensorflow.python.client import timeline # for profiling\n",
    "\n",
    "%matplotlib inline\n",
    "np.random.seed(1)"
   ]
  },
  {
   "cell_type": "markdown",
   "metadata": {},
   "source": [
    "## Import the dataset"
   ]
  },
  {
   "cell_type": "code",
   "execution_count": 2,
   "metadata": {},
   "outputs": [],
   "source": [
    "X_train_orig, Y_train_orig, X_test_orig, Y_test_orig, classes = load_data()"
   ]
  },
  {
   "cell_type": "markdown",
   "metadata": {},
   "source": [
    "## Explore the dataset"
   ]
  },
  {
   "cell_type": "code",
   "execution_count": 3,
   "metadata": {},
   "outputs": [
    {
     "name": "stdout",
     "output_type": "stream",
     "text": [
      "number of training examples = 1000\n",
      "number of test examples = 60\n",
      "X_train shape: (1000, 16000, 1, 1)\n",
      "Y_train shape: (1000, 30)\n",
      "X_test shape: (60, 16000, 1, 1)\n",
      "Y_test shape: (60, 30)\n"
     ]
    }
   ],
   "source": [
    "X_train = X_train_orig\n",
    "X_test = X_test_orig\n",
    "Y_train = convert_to_one_hot(Y_train_orig, classes)\n",
    "Y_test = convert_to_one_hot(Y_test_orig, classes)\n",
    "print (\"number of training examples = \" + str(X_train.shape[0]))\n",
    "print (\"number of test examples = \" + str(X_test.shape[0]))\n",
    "print (\"X_train shape: \" + str(X_train.shape))\n",
    "print (\"Y_train shape: \" + str(Y_train.shape))\n",
    "print (\"X_test shape: \" + str(X_test.shape))\n",
    "print (\"Y_test shape: \" + str(Y_test.shape))"
   ]
  },
  {
   "cell_type": "markdown",
   "metadata": {},
   "source": [
    "## Create input placeholders\n",
    "\n",
    "Tensorflow placeholders for X and Y. These will be dynamically set during batch G.D at runtime"
   ]
  },
  {
   "cell_type": "code",
   "execution_count": 4,
   "metadata": {},
   "outputs": [],
   "source": [
    "def create_placeholders(n_l, n_y):\n",
    "    \"\"\"\n",
    "    Creates the placeholders for the tensorflow session.\n",
    "\n",
    "    Arguments:\n",
    "    n_l -- scalar, length of the audio vector\n",
    "    n_y -- scalar, number of classes\n",
    "\n",
    "    Returns:\n",
    "    X -- placeholder for the data input, of shape [None, n_l] and dtype \"float\"\n",
    "    Y -- placeholder for the input labels, of shape [None, n_y] and dtype \"float\"\n",
    "    \"\"\"\n",
    "    X = tf.placeholder(tf.float32, shape=(None, n_l, 1, 1), name=\"X\")\n",
    "    Y = tf.placeholder(tf.float32, shape=(None, n_y), name=\"Y\")\n",
    "\n",
    "    return X, Y"
   ]
  },
  {
   "cell_type": "code",
   "execution_count": 5,
   "metadata": {},
   "outputs": [],
   "source": [
    "# X, Y = create_placeholders(500, 20)\n",
    "# print (\"X = \" + str(X))\n",
    "# print (\"Y = \" + str(Y))"
   ]
  },
  {
   "cell_type": "markdown",
   "metadata": {},
   "source": [
    "## Initialize Parameters\n",
    "\n",
    "With tensorflow we only need to initialize parameters for Conv layers. Fully connected layers' paramaters are completed handled by the framework."
   ]
  },
  {
   "cell_type": "code",
   "execution_count": 6,
   "metadata": {},
   "outputs": [],
   "source": [
    "def initialize_parameters():\n",
    "    \"\"\"\n",
    "    Initializes weight parameters to build a neural network with tensorflow. The shapes are:\n",
    "    W1 : [4, 1, 1, 8]\n",
    "    W2 : [2, 1, 8, 16]\n",
    "    Returns:\n",
    "    parameters -- a dictionary of tensors containing W1, W2\n",
    "    \"\"\"\n",
    "\n",
    "    tf.set_random_seed(1)\n",
    "\n",
    "    W1 = tf.get_variable(\"W1\", [4,1,1,8], initializer=tf.contrib.layers.xavier_initializer(seed = 0))\n",
    "    W2 = tf.get_variable(\"W2\", [2,1,8,16], initializer=tf.contrib.layers.xavier_initializer(seed = 0))\n",
    "\n",
    "    parameters = {\"W1\": W1, \"W2\": W2}\n",
    "\n",
    "    return parameters"
   ]
  },
  {
   "cell_type": "code",
   "execution_count": 7,
   "metadata": {},
   "outputs": [],
   "source": [
    "# tf.reset_default_graph()\n",
    "# with tf.Session() as sess_test:\n",
    "#     parameters = initialize_parameters()\n",
    "#     init = tf.global_variables_initializer()\n",
    "#     sess_test.run(init)\n",
    "#     print(\"W1 = \" + str(parameters[\"W1\"].eval()[0,0,0]))\n",
    "#     print(\"W2 = \" + str(parameters[\"W2\"].eval()[0,0,0]))"
   ]
  },
  {
   "cell_type": "markdown",
   "metadata": {},
   "source": [
    "## Forward Propagation\n",
    "\n",
    "CONV2D -> RELU -> MAXPOOL -> CONV2D -> RELU -> MAXPOOL -> FLATTEN -> FULLYCONNECTED\n",
    "\n",
    "Following are the parameters for all the layers:\n",
    "    - Conv2D: stride 1, padding is \"SAME\"\n",
    "    - ReLU\n",
    "    - Max pool: 8 by 1 filter size and an 8 by 1 stride, padding is \"SAME\"\n",
    "    - Conv2D: stride 1, padding is \"SAME\"\n",
    "    - ReLU\n",
    "    - Max pool: 4 by 1 filter size and a 4 by 1 stride, padding is \"SAME\"\n",
    "    - Flatten the previous output.\n",
    "    - FULLYCONNECTED (FC) layer: outputs 30 classes one for each audio utterance"
   ]
  },
  {
   "cell_type": "code",
   "execution_count": 8,
   "metadata": {},
   "outputs": [],
   "source": [
    "def forward_propagation(X, parameters):\n",
    "    \"\"\"\n",
    "    Implements the forward propagation for the model:\n",
    "    CONV2D -> RELU -> MAXPOOL -> CONV2D -> RELU -> MAXPOOL -> FLATTEN -> FULLYCONNECTED\n",
    "\n",
    "    Arguments:\n",
    "    X -- input dataset placeholder, of shape (input size, number of examples)\n",
    "    parameters -- python dictionary containing parameters \"W1\", \"W2\"\n",
    "    the shapes are given in initialize_parameters\n",
    "    Returns:\n",
    "    Z3 -- the output of the last LINEAR unit\n",
    "    \"\"\"\n",
    "\n",
    "    # Retrieve the parameters from the dictionary \"parameters\"\n",
    "    W1 = parameters['W1']\n",
    "    W2 = parameters['W2']\n",
    "    regularizer1 = tf.contrib.layers.l2_regularizer(scale=0.001)\n",
    "    regularizer2 = tf.contrib.layers.l2_regularizer(scale=0.01)\n",
    "    regularizer3 = tf.contrib.layers.l2_regularizer(scale=0.1)\n",
    "#     regularizer = None\n",
    "\n",
    "    Z1 = tf.layers.conv2d(X, 8, (4,1), strides = [1,1], padding = 'SAME', kernel_regularizer = regularizer1, name=\"z1\")\n",
    "    A1 = tf.nn.relu(Z1, name=\"a1\")\n",
    "    P1 = tf.nn.max_pool(A1, ksize = [1,8,1,1], strides = [1,8,1,1], padding = 'SAME', name=\"p1\")\n",
    "    Z2 = tf.layers.conv2d(P1, 16, (2, 1), strides = [1,1], padding = 'SAME', kernel_regularizer = regularizer2, name=\"z2\")\n",
    "    A2 = tf.nn.relu(Z2, name=\"a2\")\n",
    "    P2 = tf.nn.max_pool(A2, ksize = [1,4,1,1], strides = [1,4,1,1], padding = 'SAME', name=\"p2\")\n",
    "    P2 = tf.contrib.layers.flatten(P2)\n",
    "    Z3 = tf.contrib.layers.fully_connected(P2, 30, activation_fn=None, weights_regularizer = regularizer3)\n",
    "\n",
    "    return Z3"
   ]
  },
  {
   "cell_type": "code",
   "execution_count": 9,
   "metadata": {},
   "outputs": [],
   "source": [
    "# tf.reset_default_graph()\n",
    "# with tf.Session() as sess:\n",
    "#     np.random.seed(1)\n",
    "#     X, Y = create_placeholders(64, 5)\n",
    "#     parameters = initialize_parameters()\n",
    "#     Z3 = forward_propagation(X, parameters)\n",
    "#     init = tf.global_variables_initializer()\n",
    "#     sess.run(init)\n",
    "#     a = sess.run(Z3, {X: np.random.randn(2,64,1,1), Y: np.random.randn(2,5)})\n",
    "#     print(\"Z3 = \" + str(a))"
   ]
  },
  {
   "cell_type": "markdown",
   "metadata": {},
   "source": [
    "## Compute Cost\n",
    "\n",
    "Using the last layer Z3, compute softmax and J"
   ]
  },
  {
   "cell_type": "code",
   "execution_count": 10,
   "metadata": {},
   "outputs": [],
   "source": [
    "def compute_cost(Z3, Y):\n",
    "    \"\"\"\n",
    "    Computes the cost\n",
    "\n",
    "    Arguments:\n",
    "    Z3 -- output of forward propagation (output of the last LINEAR unit), of shape (30, number of examples)\n",
    "    Y -- \"true\" labels vector placeholder, same shape as Z3\n",
    "\n",
    "    Returns:\n",
    "    cost - Tensor of the cost function\n",
    "    \"\"\"\n",
    "\n",
    "    cost = tf.reduce_mean(tf.nn.softmax_cross_entropy_with_logits(logits = Z3, labels = Y, name=\"L\"), name=\"J\")\n",
    "\n",
    "    return cost"
   ]
  },
  {
   "cell_type": "code",
   "execution_count": 11,
   "metadata": {},
   "outputs": [],
   "source": [
    "# tf.reset_default_graph()\n",
    "# with tf.Session() as sess:\n",
    "#     np.random.seed(1)\n",
    "#     X, Y = create_placeholders(64, 30)\n",
    "#     parameters = initialize_parameters()\n",
    "#     Z3 = forward_propagation(X, parameters)\n",
    "#     cost = compute_cost(Z3, Y)\n",
    "#     init = tf.global_variables_initializer()\n",
    "#     sess.run(init)\n",
    "#     a = sess.run(cost, {X: np.random.randn(4,64,1,1), Y: np.random.randn(4,30)})\n",
    "#     print(\"cost = \" + str(a))"
   ]
  },
  {
   "cell_type": "markdown",
   "metadata": {},
   "source": [
    "## Define Model Accuracy"
   ]
  },
  {
   "cell_type": "code",
   "execution_count": 12,
   "metadata": {},
   "outputs": [],
   "source": [
    "def model_accuracy(X_train, Y_train, Z3, X, Y, minibatch_size = 64, print_progress = True):\n",
    "    predict_op = tf.argmax(Z3, 1)\n",
    "    correct_prediction = tf.equal(predict_op, tf.argmax(Y, 1))\n",
    "    accuracy = tf.reduce_mean(tf.cast(correct_prediction, \"float\"))\n",
    "    \n",
    "    num_minibatches = 0\n",
    "    acc_accuracy = 0\n",
    "    minibatches = random_mini_batches(X_train, Y_train, minibatch_size)\n",
    "    for minibatch in minibatches:\n",
    "        (minibatch_X, minibatch_Y) = minibatch\n",
    "        acc_accuracy += accuracy.eval({X: minibatch_X, Y: minibatch_Y})\n",
    "        num_minibatches += 1\n",
    "        \n",
    "        if num_minibatches % 25 == 0:\n",
    "            print(\"%s: Accuracy after %ith batch: %f\" % (datetime.datetime.now().strftime('%Y-%m-%d %H:%M:%S'), num_minibatches, acc_accuracy / num_minibatches))\n",
    "\n",
    "    train_accuracy = acc_accuracy / num_minibatches\n",
    "    # print(\"Accuracy:\", train_accuracy)\n",
    "\n",
    "    return train_accuracy"
   ]
  },
  {
   "cell_type": "markdown",
   "metadata": {},
   "source": [
    "### Plot Helper for (cost, test accuracy, train accuracy) VS (# iterations)"
   ]
  },
  {
   "cell_type": "code",
   "execution_count": 13,
   "metadata": {},
   "outputs": [],
   "source": [
    "def plot_cost_test_train(num_epochs, costs, training_accs, test_accs, title = \"\"):\n",
    "    fig, ax1 = plt.subplots()\n",
    "    t = np.arange(num_epochs)\n",
    "    ax1.plot(t, costs, 'b-')\n",
    "    ax1.set_xlabel('iterations (per tens)')\n",
    "    # Make the y-axis label, ticks and tick labels match the line color.\n",
    "    ax1.set_ylabel('cost', color='b')\n",
    "    ax1.tick_params('y', colors='b')\n",
    "\n",
    "    ax2 = ax1.twinx()\n",
    "    ax2.plot(t, training_accs, 'r-')\n",
    "    ax2.set_ylabel('train accuracy', color='r')\n",
    "    ax2.tick_params('y', colors='r')\n",
    "    \n",
    "    ax3 = ax1.twinx()\n",
    "    ax3.plot(t, test_accs, 'm-')\n",
    "    ax3.set_ylabel('test accuracy', color='m')\n",
    "    ax3.tick_params('y', colors='m')\n",
    "    ax3.spines['right'].set_position(('axes', 1.2))\n",
    "\n",
    "    fig.tight_layout()\n",
    "    fig.subplots_adjust(right=0.75) # add space on the right for y3 axis\n",
    "    plt.title(title)\n",
    "    plt.show()"
   ]
  },
  {
   "cell_type": "markdown",
   "metadata": {},
   "source": [
    "## Model\n",
    "\n",
    "Connects all the functions and sets up training with mini batches"
   ]
  },
  {
   "cell_type": "markdown",
   "metadata": {},
   "source": [
    "### Start a session"
   ]
  },
  {
   "cell_type": "code",
   "execution_count": 14,
   "metadata": {},
   "outputs": [],
   "source": [
    "tf.reset_default_graph() # to be able to rerun the model without overwriting tf variables\n",
    "\n",
    "config = tf.ConfigProto(device_count = {'GPU': 0})\n",
    "\n",
    "# Start an interactive session\n",
    "sess = tf.InteractiveSession(config=config)"
   ]
  },
  {
   "cell_type": "markdown",
   "metadata": {},
   "source": [
    "### Profiling"
   ]
  },
  {
   "cell_type": "code",
   "execution_count": 15,
   "metadata": {},
   "outputs": [],
   "source": [
    "options = tf.RunOptions(trace_level=tf.RunOptions.FULL_TRACE)\n",
    "run_metadata = tf.RunMetadata()"
   ]
  },
  {
   "cell_type": "code",
   "execution_count": 16,
   "metadata": {
    "scrolled": true
   },
   "outputs": [],
   "source": [
    "def create_model(X_train, Y_train, learning_rate):\n",
    "    \"\"\"\n",
    "    Implements a three-layer ConvNet in Tensorflow:\n",
    "    CONV2D -> RELU -> MAXPOOL -> CONV2D -> RELU -> MAXPOOL -> FLATTEN -> FULLYCONNECTED\n",
    "\n",
    "    Arguments:\n",
    "    X_train -- training set, of shape (None, 16000, 1, 1)\n",
    "    Y_train -- test set, of shape (None, n_y = 30)\n",
    "    X_test -- training set, of shape (None, 16000, 1, 1)\n",
    "    Y_test -- test set, of shape (None, n_y = 30)\n",
    "    learning_rate -- learning rate of the optimization\n",
    "    num_epochs -- number of epochs of the optimization loop\n",
    "    minibatch_size -- size of a minibatch\n",
    "    print_cost -- True to print the cost every 100 epochs\n",
    "\n",
    "    Returns:\n",
    "    train_accuracy -- real number, accuracy on the train set (X_train)\n",
    "    test_accuracy -- real number, testing accuracy on the test set (X_test)\n",
    "    parameters -- parameters learnt by the model. They can then be used to predict.\n",
    "    \"\"\"\n",
    "\n",
    "    tf.set_random_seed(1) # to keep results consistent (tensorflow seed)\n",
    "    (m, n_l, _, __) = X_train.shape\n",
    "    n_y = Y_train.shape[1]\n",
    "\n",
    "    X, Y = create_placeholders(n_l, n_y)\n",
    "    parameters = initialize_parameters()\n",
    "    Z3 = forward_propagation(X, parameters)\n",
    "    cost = compute_cost(Z3, Y)\n",
    "    \n",
    "    # Backpropagation: Using AdamOptimizer to minimize the cost.\n",
    "    optimizer = tf.train.AdamOptimizer(learning_rate = learning_rate, name=\"adam\").minimize(cost, name=\"adam_minimize\")\n",
    "\n",
    "    return Z3, X, Y, parameters, cost, optimizer"
   ]
  },
  {
   "cell_type": "code",
   "execution_count": 17,
   "metadata": {},
   "outputs": [],
   "source": [
    "def run_model(X_train, Y_train, X_test, Y_test, X, Y, \n",
    "              cost, optimizer, learning_rate = 0.011, minibatch_size = 64, num_epochs = 100, print_cost = True):\n",
    "    \n",
    "    seed = 3 # to keep results consistent (numpy seed)\n",
    "    m = X_train.shape[0]\n",
    "    num_minibatches = int(m / minibatch_size) # number of minibatches of size minibatch_size in the train set\n",
    "    costs = [] # To keep track of the cost\n",
    "    training_accs = []\n",
    "    test_accs = []\n",
    "    \n",
    "    # Run the initialization\n",
    "    sess.run(tf.global_variables_initializer())\n",
    "    \n",
    "    # Do the training loop\n",
    "    for epoch in range(num_epochs):\n",
    "        minibatch_cost = 0.\n",
    "        seed = seed + 1\n",
    "        minibatches = random_mini_batches(X_train, Y_train, minibatch_size, seed)\n",
    "        for minibatch in minibatches:\n",
    "            (minibatch_X, minibatch_Y) = minibatch\n",
    "            # IMPORTANT: The line that runs the graph on a minibatch.\n",
    "            # Run the session to execute the optimizer and the cost, the feedict should contain a minibatch for (X,Y).\n",
    "            _ , temp_cost = sess.run([optimizer, cost], feed_dict = {X: minibatch_X, Y: minibatch_Y})\n",
    "            minibatch_cost += temp_cost / num_minibatches\n",
    "\n",
    "        # Print the cost every epoch\n",
    "        if print_cost == True and epoch % 5 == 0:\n",
    "            print(\"%s: Cost after epoch %i: %f\" % (datetime.now().strftime('%Y-%m-%d %H:%M:%S'), epoch, minibatch_cost))\n",
    "        if print_cost == True and epoch % 1 == 0:\n",
    "            costs.append(minibatch_cost)\n",
    "            training_accs.append(model_accuracy(X_train, Y_train, Z3, X, Y, minibatch_size = 256))\n",
    "            test_accs.append(model_accuracy(X_test, Y_test, Z3, X, Y, minibatch_size = 256))\n",
    "\n",
    "    plot_cost_test_train(num_epochs, costs, training_accs, test_accs, \"Learning rate = %s\" % learning_rate)"
   ]
  },
  {
   "cell_type": "code",
   "execution_count": 18,
   "metadata": {},
   "outputs": [],
   "source": [
    "Z3, X, Y, parameters, cost, optimizer = create_model(X_train, Y_train, learning_rate = 0.011)"
   ]
  },
  {
   "cell_type": "code",
   "execution_count": 19,
   "metadata": {},
   "outputs": [],
   "source": [
    "saver = tf.train.Saver() # create a saver for saving variables to disk"
   ]
  },
  {
   "cell_type": "code",
   "execution_count": 20,
   "metadata": {},
   "outputs": [
    {
     "name": "stdout",
     "output_type": "stream",
     "text": [
      "2018-01-06 05:30:54: Cost after epoch 0: 4.641669\n",
      "2018-01-06 05:31:04: Cost after epoch 5: 3.138385\n",
      "2018-01-06 05:31:14: Cost after epoch 10: 1.342545\n",
      "2018-01-06 05:31:24: Cost after epoch 15: 0.573443\n",
      "2018-01-06 05:31:34: Cost after epoch 20: 0.308913\n",
      "2018-01-06 05:31:44: Cost after epoch 25: 0.301553\n",
      "2018-01-06 05:31:54: Cost after epoch 30: 0.264971\n",
      "2018-01-06 05:32:04: Cost after epoch 35: 0.173612\n",
      "2018-01-06 05:32:14: Cost after epoch 40: 0.192447\n",
      "2018-01-06 05:32:24: Cost after epoch 45: 0.231477\n"
     ]
    },
    {
     "data": {
      "image/png": "[encoded data removed]",
      "text/plain": [
       "<matplotlib.figure.Figure at 0xc3a0a10>"
      ]
     },
     "metadata": {},
     "output_type": "display_data"
    }
   ],
   "source": [
    "run_model(X_train, Y_train, X_test, Y_test, X, Y, \n",
    "          cost, optimizer, learning_rate = 0.011, minibatch_size = 256, num_epochs = 50)"
   ]
  },
  {
   "cell_type": "markdown",
   "metadata": {},
   "source": [
    "### Save profiling data to disk"
   ]
  },
  {
   "cell_type": "code",
   "execution_count": 21,
   "metadata": {},
   "outputs": [],
   "source": [
    "# Create the Timeline object, and write it to a json file\n",
    "def save_profiling_data():\n",
    "    fetched_timeline = timeline.Timeline(run_metadata.step_stats)\n",
    "    chrome_trace = fetched_timeline.generate_chrome_trace_format()\n",
    "    time_id = int(time())\n",
    "    with open('../experiments/timeline_s_256b_120e_gpu0_l2_%s.json' % (time_id,), 'w') as f:\n",
    "        f.write(chrome_trace)"
   ]
  },
  {
   "cell_type": "markdown",
   "metadata": {},
   "source": [
    "## Save model to disk"
   ]
  },
  {
   "cell_type": "code",
   "execution_count": 22,
   "metadata": {},
   "outputs": [],
   "source": [
    "saved_path = saver.save(sess, \"../saved_models/trained_model.ckpt\")\n",
    "\n",
    "meta_graph_def = tf.train.export_meta_graph(filename='../saved_models/my-cnn-tf-model.meta')"
   ]
  },
  {
   "cell_type": "code",
   "execution_count": 23,
   "metadata": {},
   "outputs": [
    {
     "data": {
      "text/plain": [
       "[_DeviceAttributes(/job:localhost/replica:0/task:0/device:CPU:0, CPU, 268435456)]"
      ]
     },
     "execution_count": 23,
     "metadata": {},
     "output_type": "execute_result"
    }
   ],
   "source": [
    "sess.list_devices()"
   ]
  },
  {
   "cell_type": "code",
   "execution_count": 24,
   "metadata": {},
   "outputs": [
    {
     "data": {
      "text/plain": [
       "0.98905576765537262"
      ]
     },
     "execution_count": 24,
     "metadata": {},
     "output_type": "execute_result"
    }
   ],
   "source": [
    "# train accuracy\n",
    "model_accuracy(X_train, Y_train, Z3, X, Y, minibatch_size = 256)"
   ]
  },
  {
   "cell_type": "code",
   "execution_count": 25,
   "metadata": {},
   "outputs": [
    {
     "data": {
      "text/plain": [
       "0.11666666716337204"
      ]
     },
     "execution_count": 25,
     "metadata": {},
     "output_type": "execute_result"
    }
   ],
   "source": [
    "# test accuracy\n",
    "model_accuracy(X_test, Y_test, Z3, X, Y, minibatch_size = 256)"
   ]
  },
  {
   "cell_type": "markdown",
   "metadata": {},
   "source": [
    "## Inference\n",
    "\n",
    "- Convert audio file to vector and reshape\n",
    "- Do forward prop\n",
    "- Find the maximal class\n",
    "- Remap index to class name"
   ]
  },
  {
   "cell_type": "code",
   "execution_count": 26,
   "metadata": {},
   "outputs": [],
   "source": [
    "def inference(audio_file, Z3):\n",
    "    ra = load_wav_file(os.path.abspath(audio_file))\n",
    "    x = ra.reshape(1, ra.shape[0], 1, 1)\n",
    "    y_hat = tf.argmax(Z3, 1)\n",
    "    prediction = sess.run(y_hat, feed_dict = {X: x})\n",
    "    return classes[prediction[0]]"
   ]
  },
  {
   "cell_type": "code",
   "execution_count": 27,
   "metadata": {},
   "outputs": [
    {
     "name": "stdout",
     "output_type": "stream",
     "text": [
      "four\n",
      "go\n",
      "seven\n"
     ]
    }
   ],
   "source": [
    "print(inference(\"../data/train/audio/bed/0a7c2a8d_nohash_0.wav\", Z3)) # bed\n",
    "print(inference(\"../data/train/audio/down/0a7c2a8d_nohash_0.wav\", Z3)) # down\n",
    "print(inference(\"../data/test/audio/clip_0000adecb.wav\", Z3)) # happy"
   ]
  },
  {
   "cell_type": "markdown",
   "metadata": {},
   "source": [
    "## Load Variables"
   ]
  },
  {
   "cell_type": "code",
   "execution_count": 28,
   "metadata": {},
   "outputs": [],
   "source": [
    "# saver = tf.train.Saver() # create a saver for saving variables to disk\n",
    "# saver.restore(sess, \"../saved_models/trained_model.ckpt\")"
   ]
  },
  {
   "cell_type": "code",
   "execution_count": null,
   "metadata": {},
   "outputs": [],
   "source": []
  }
 ],
 "metadata": {
  "kernelspec": {
   "display_name": "Python 3",
   "language": "python",
   "name": "python3"
  },
  "language_info": {
   "codemirror_mode": {
    "name": "ipython",
    "version": 2
   },
   "file_extension": ".py",
   "mimetype": "text/x-python",
   "name": "python",
   "nbconvert_exporter": "python",
   "pygments_lexer": "ipython2",
   "version": "2.7.5"
  }
 },
 "nbformat": 4,
 "nbformat_minor": 2
}
