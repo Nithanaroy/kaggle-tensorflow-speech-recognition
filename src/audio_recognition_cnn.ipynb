{
 "cells": [
  {
   "cell_type": "markdown",
   "metadata": {},
   "source": [
    "# Audio Recognition using Tensorflow\n",
    "\n",
    "This approach uses CNN to build a classifier for audio inputs"
   ]
  },
  {
   "cell_type": "markdown",
   "metadata": {},
   "source": [
    "## Import necessary modules"
   ]
  },
  {
   "cell_type": "code",
   "execution_count": 17,
   "metadata": {},
   "outputs": [],
   "source": [
    "import numpy as np\n",
    "import matplotlib.pyplot as plt\n",
    "import tensorflow as tf\n",
    "from tensorflow.python.framework import ops\n",
    "from utils import *\n",
    "import datetime\n",
    "from time import time\n",
    "from tensorflow.python.client import timeline # for profiling\n",
    "\n",
    "%matplotlib inline\n",
    "np.random.seed(1)"
   ]
  },
  {
   "cell_type": "markdown",
   "metadata": {},
   "source": [
    "## Import the dataset"
   ]
  },
  {
   "cell_type": "code",
   "execution_count": 2,
   "metadata": {},
   "outputs": [],
   "source": [
    "X_train_orig, Y_train_orig, X_test_orig, Y_test_orig, classes = load_data()"
   ]
  },
  {
   "cell_type": "markdown",
   "metadata": {},
   "source": [
    "## Explore the dataset"
   ]
  },
  {
   "cell_type": "code",
   "execution_count": 3,
   "metadata": {},
   "outputs": [
    {
     "name": "stdout",
     "output_type": "stream",
     "text": [
      "number of training examples = 58248\n",
      "number of test examples = 6473\n",
      "X_train shape: (58248, 16000, 1, 1)\n",
      "Y_train shape: (58248, 30)\n",
      "X_test shape: (6473, 16000, 1, 1)\n",
      "Y_test shape: (6473, 30)\n"
     ]
    }
   ],
   "source": [
    "X_train = X_train_orig\n",
    "X_test = X_test_orig\n",
    "Y_train = convert_to_one_hot(Y_train_orig, classes)\n",
    "Y_test = convert_to_one_hot(Y_test_orig, classes)\n",
    "print (\"number of training examples = \" + str(X_train.shape[0]))\n",
    "print (\"number of test examples = \" + str(X_test.shape[0]))\n",
    "print (\"X_train shape: \" + str(X_train.shape))\n",
    "print (\"Y_train shape: \" + str(Y_train.shape))\n",
    "print (\"X_test shape: \" + str(X_test.shape))\n",
    "print (\"Y_test shape: \" + str(Y_test.shape))"
   ]
  },
  {
   "cell_type": "markdown",
   "metadata": {},
   "source": [
    "## Create input placeholders\n",
    "\n",
    "Tensorflow placeholders for X and Y. These will be dynamically set during batch G.D at runtime"
   ]
  },
  {
   "cell_type": "code",
   "execution_count": 4,
   "metadata": {},
   "outputs": [],
   "source": [
    "def create_placeholders(n_l, n_y):\n",
    "    \"\"\"\n",
    "    Creates the placeholders for the tensorflow session.\n",
    "\n",
    "    Arguments:\n",
    "    n_l -- scalar, length of the audio vector\n",
    "    n_y -- scalar, number of classes\n",
    "\n",
    "    Returns:\n",
    "    X -- placeholder for the data input, of shape [None, n_l] and dtype \"float\"\n",
    "    Y -- placeholder for the input labels, of shape [None, n_y] and dtype \"float\"\n",
    "    \"\"\"\n",
    "    X = tf.placeholder(tf.float32, shape=(None, n_l, 1, 1))\n",
    "    Y = tf.placeholder(tf.float32, shape=(None, n_y))\n",
    "\n",
    "    return X, Y"
   ]
  },
  {
   "cell_type": "code",
   "execution_count": 5,
   "metadata": {},
   "outputs": [],
   "source": [
    "# X, Y = create_placeholders(500, 20)\n",
    "# print (\"X = \" + str(X))\n",
    "# print (\"Y = \" + str(Y))"
   ]
  },
  {
   "cell_type": "markdown",
   "metadata": {},
   "source": [
    "## Initialize Parameters\n",
    "\n",
    "With tensorflow we only need to initialize parameters for Conv layers. Fully connected layers' paramaters are completed handled by the framework."
   ]
  },
  {
   "cell_type": "code",
   "execution_count": 6,
   "metadata": {},
   "outputs": [],
   "source": [
    "def initialize_parameters():\n",
    "    \"\"\"\n",
    "    Initializes weight parameters to build a neural network with tensorflow. The shapes are:\n",
    "    W1 : [4, 1, 1, 8]\n",
    "    W2 : [2, 1, 8, 16]\n",
    "    Returns:\n",
    "    parameters -- a dictionary of tensors containing W1, W2\n",
    "    \"\"\"\n",
    "\n",
    "    tf.set_random_seed(1)\n",
    "\n",
    "    W1 = tf.get_variable(\"W1\", [4,1,1,8], initializer=tf.contrib.layers.xavier_initializer(seed = 0))\n",
    "    W2 = tf.get_variable(\"W2\", [2,1,8,16], initializer=tf.contrib.layers.xavier_initializer(seed = 0))\n",
    "\n",
    "    parameters = {\"W1\": W1, \"W2\": W2}\n",
    "\n",
    "    return parameters"
   ]
  },
  {
   "cell_type": "code",
   "execution_count": 7,
   "metadata": {},
   "outputs": [],
   "source": [
    "# tf.reset_default_graph()\n",
    "# with tf.Session() as sess_test:\n",
    "#     parameters = initialize_parameters()\n",
    "#     init = tf.global_variables_initializer()\n",
    "#     sess_test.run(init)\n",
    "#     print(\"W1 = \" + str(parameters[\"W1\"].eval()[0,0,0]))\n",
    "#     print(\"W2 = \" + str(parameters[\"W2\"].eval()[0,0,0]))"
   ]
  },
  {
   "cell_type": "markdown",
   "metadata": {},
   "source": [
    "## Forward Propagation\n",
    "\n",
    "CONV2D -> RELU -> MAXPOOL -> CONV2D -> RELU -> MAXPOOL -> FLATTEN -> FULLYCONNECTED\n",
    "\n",
    "Following are the parameters for all the layers:\n",
    "    - Conv2D: stride 1, padding is \"SAME\"\n",
    "    - ReLU\n",
    "    - Max pool: 8 by 1 filter size and an 8 by 1 stride, padding is \"SAME\"\n",
    "    - Conv2D: stride 1, padding is \"SAME\"\n",
    "    - ReLU\n",
    "    - Max pool: 4 by 1 filter size and a 4 by 1 stride, padding is \"SAME\"\n",
    "    - Flatten the previous output.\n",
    "    - FULLYCONNECTED (FC) layer: outputs 30 classes one for each audio utterance"
   ]
  },
  {
   "cell_type": "code",
   "execution_count": 8,
   "metadata": {},
   "outputs": [],
   "source": [
    "def forward_propagation(X, parameters):\n",
    "    \"\"\"\n",
    "    Implements the forward propagation for the model:\n",
    "    CONV2D -> RELU -> MAXPOOL -> CONV2D -> RELU -> MAXPOOL -> FLATTEN -> FULLYCONNECTED\n",
    "\n",
    "    Arguments:\n",
    "    X -- input dataset placeholder, of shape (input size, number of examples)\n",
    "    parameters -- python dictionary containing parameters \"W1\", \"W2\"\n",
    "    the shapes are given in initialize_parameters\n",
    "    Returns:\n",
    "    Z3 -- the output of the last LINEAR unit\n",
    "    \"\"\"\n",
    "\n",
    "    # Retrieve the parameters from the dictionary \"parameters\"\n",
    "    W1 = parameters['W1']\n",
    "    W2 = parameters['W2']\n",
    "\n",
    "    Z1 = tf.nn.conv2d(X, W1, strides = [1,1,1,1], padding = 'SAME')\n",
    "    A1 = tf.nn.relu(Z1)\n",
    "    P1 = tf.nn.max_pool(A1, ksize = [1,8,1,1], strides = [1,8,1,1], padding = 'SAME')\n",
    "    Z2 = tf.nn.conv2d(P1, W2, strides = [1,1,1,1], padding = 'SAME')\n",
    "    A2 = tf.nn.relu(Z2)\n",
    "    P2 = tf.nn.max_pool(A2, ksize = [1,4,1,1], strides = [1,4,1,1], padding = 'SAME')\n",
    "    P2 = tf.contrib.layers.flatten(P2)\n",
    "    Z3 = tf.contrib.layers.fully_connected(P2, 30, activation_fn=None)\n",
    "\n",
    "    return Z3"
   ]
  },
  {
   "cell_type": "code",
   "execution_count": 9,
   "metadata": {},
   "outputs": [],
   "source": [
    "# tf.reset_default_graph()\n",
    "# with tf.Session() as sess:\n",
    "#     np.random.seed(1)\n",
    "#     X, Y = create_placeholders(64, 5)\n",
    "#     parameters = initialize_parameters()\n",
    "#     Z3 = forward_propagation(X, parameters)\n",
    "#     init = tf.global_variables_initializer()\n",
    "#     sess.run(init)\n",
    "#     a = sess.run(Z3, {X: np.random.randn(2,64,1,1), Y: np.random.randn(2,5)})\n",
    "#     print(\"Z3 = \" + str(a))"
   ]
  },
  {
   "cell_type": "markdown",
   "metadata": {},
   "source": [
    "## Compute Cost\n",
    "\n",
    "Using the last layer Z3, compute softmax and J"
   ]
  },
  {
   "cell_type": "code",
   "execution_count": 10,
   "metadata": {},
   "outputs": [],
   "source": [
    "def compute_cost(Z3, Y):\n",
    "    \"\"\"\n",
    "    Computes the cost\n",
    "\n",
    "    Arguments:\n",
    "    Z3 -- output of forward propagation (output of the last LINEAR unit), of shape (30, number of examples)\n",
    "    Y -- \"true\" labels vector placeholder, same shape as Z3\n",
    "\n",
    "    Returns:\n",
    "    cost - Tensor of the cost function\n",
    "    \"\"\"\n",
    "\n",
    "    cost = tf.reduce_mean(tf.nn.softmax_cross_entropy_with_logits(logits = Z3, labels = Y))\n",
    "\n",
    "    return cost"
   ]
  },
  {
   "cell_type": "code",
   "execution_count": 11,
   "metadata": {},
   "outputs": [],
   "source": [
    "# tf.reset_default_graph()\n",
    "# with tf.Session() as sess:\n",
    "#     np.random.seed(1)\n",
    "#     X, Y = create_placeholders(64, 30)\n",
    "#     parameters = initialize_parameters()\n",
    "#     Z3 = forward_propagation(X, parameters)\n",
    "#     cost = compute_cost(Z3, Y)\n",
    "#     init = tf.global_variables_initializer()\n",
    "#     sess.run(init)\n",
    "#     a = sess.run(cost, {X: np.random.randn(4,64,1,1), Y: np.random.randn(4,30)})\n",
    "#     print(\"cost = \" + str(a))"
   ]
  },
  {
   "cell_type": "markdown",
   "metadata": {},
   "source": [
    "## Model\n",
    "\n",
    "Connects all the functions and sets up training with mini batches"
   ]
  },
  {
   "cell_type": "code",
   "execution_count": 12,
   "metadata": {},
   "outputs": [],
   "source": [
    "tf.reset_default_graph() # to be able to rerun the model without overwriting tf variables\n",
    "\n",
    "config = tf.ConfigProto(device_count = {'GPU': 0})\n",
    "\n",
    "# Start an interactive session\n",
    "sess = tf.InteractiveSession(config=config)"
   ]
  },
  {
   "cell_type": "markdown",
   "metadata": {},
   "source": [
    "### Profiling"
   ]
  },
  {
   "cell_type": "code",
   "execution_count": 13,
   "metadata": {},
   "outputs": [],
   "source": [
    "options = tf.RunOptions(trace_level=tf.RunOptions.FULL_TRACE)\n",
    "run_metadata = tf.RunMetadata()"
   ]
  },
  {
   "cell_type": "code",
   "execution_count": 14,
   "metadata": {},
   "outputs": [],
   "source": [
    "def model(sess, X_train, Y_train, X_test, Y_test, learning_rate = 0.009, num_epochs = 100, \n",
    "          minibatch_size = 64, print_cost = True):\n",
    "    \"\"\"\n",
    "    Implements a three-layer ConvNet in Tensorflow:\n",
    "    CONV2D -> RELU -> MAXPOOL -> CONV2D -> RELU -> MAXPOOL -> FLATTEN -> FULLYCONNECTED\n",
    "\n",
    "    Arguments:\n",
    "    X_train -- training set, of shape (None, 16000, 1, 1)\n",
    "    Y_train -- test set, of shape (None, n_y = 30)\n",
    "    X_test -- training set, of shape (None, 16000, 1, 1)\n",
    "    Y_test -- test set, of shape (None, n_y = 30)\n",
    "    learning_rate -- learning rate of the optimization\n",
    "    num_epochs -- number of epochs of the optimization loop\n",
    "    minibatch_size -- size of a minibatch\n",
    "    print_cost -- True to print the cost every 100 epochs\n",
    "\n",
    "    Returns:\n",
    "    train_accuracy -- real number, accuracy on the train set (X_train)\n",
    "    test_accuracy -- real number, testing accuracy on the test set (X_test)\n",
    "    parameters -- parameters learnt by the model. They can then be used to predict.\n",
    "    \"\"\"\n",
    "\n",
    "    tf.set_random_seed(1) # to keep results consistent (tensorflow seed)\n",
    "    seed = 3 # to keep results consistent (numpy seed)\n",
    "    (m, n_l, _, __) = X_train.shape\n",
    "    n_y = Y_train.shape[1]\n",
    "    costs = [] # To keep track of the cost\n",
    "\n",
    "    X, Y = create_placeholders(n_l, n_y)\n",
    "    parameters = initialize_parameters()\n",
    "    Z3 = forward_propagation(X, parameters)\n",
    "    cost = compute_cost(Z3, Y)\n",
    "    # print(\"Cost before iteration %s\" % (cost,))\n",
    "\n",
    "    # Backpropagation: Using AdamOptimizer to minimize the cost.\n",
    "    optimizer = tf.train.AdamOptimizer(learning_rate = learning_rate).minimize(cost)\n",
    "\n",
    "    # Run the initialization\n",
    "    sess.run(tf.global_variables_initializer())\n",
    "    num_minibatches = int(m / minibatch_size) # number of minibatches of size minibatch_size in the train set\n",
    "    \n",
    "    \n",
    "    \n",
    "    # Do the training loop\n",
    "    for epoch in range(num_epochs):\n",
    "        minibatch_cost = 0.\n",
    "        # print(\"> epoch = %s, m = %s, mini size = %s, mini cost = %s\" % (epoch, m, minibatch_size, minibatch_cost))\n",
    "        seed = seed + 1\n",
    "        minibatches = random_mini_batches(X_train, Y_train, minibatch_size, seed)\n",
    "        for minibatch in minibatches:\n",
    "            (minibatch_X, minibatch_Y) = minibatch\n",
    "            # print(\">> mini X.shape = %s, mini Y.shape = %s\" % (minibatch_X.shape, minibatch_Y.shape))\n",
    "            # IMPORTANT: The line that runs the graph on a minibatch.\n",
    "            # Run the session to execute the optimizer and the cost, the feedict should contain a minibatch for (X,Y).\n",
    "            _ , temp_cost = sess.run([optimizer, cost], feed_dict = {X: minibatch_X, Y: minibatch_Y})\n",
    "            # print(\">> Temp cost = %s\" % temp_cost)\n",
    "            minibatch_cost += temp_cost / num_minibatches\n",
    "\n",
    "        # Print the cost every epoch\n",
    "        if print_cost == True and epoch % 1 == 0:\n",
    "            print(\"%s: Cost after epoch %i: %f\" % (datetime.datetime.now().strftime('%Y-%m-%d %H:%M:%S'), epoch, minibatch_cost))\n",
    "        if print_cost == True and epoch % 1 == 0:\n",
    "            costs.append(minibatch_cost)\n",
    "\n",
    "\n",
    "    # plot the cost\n",
    "    plt.plot(np.squeeze(costs))\n",
    "    plt.ylabel('cost')\n",
    "    plt.xlabel('iterations (per tens)')\n",
    "    plt.title(\"Learning rate =\" + str(learning_rate))\n",
    "    plt.show()\n",
    "\n",
    "    return Z3, X, Y, parameters"
   ]
  },
  {
   "cell_type": "code",
   "execution_count": 15,
   "metadata": {},
   "outputs": [
    {
     "name": "stdout",
     "output_type": "stream",
     "text": [
      "2018-01-04 08:58:46: Cost after epoch 0: 2.904873\n",
      "2018-01-04 08:59:53: Cost after epoch 1: 2.469891\n",
      "2018-01-04 09:00:59: Cost after epoch 2: 2.207325\n",
      "2018-01-04 09:02:05: Cost after epoch 3: 1.963910\n",
      "2018-01-04 09:03:11: Cost after epoch 4: 1.766639\n",
      "2018-01-04 09:04:17: Cost after epoch 5: 1.589114\n",
      "2018-01-04 09:05:23: Cost after epoch 6: 1.459018\n",
      "2018-01-04 09:06:29: Cost after epoch 7: 1.343035\n",
      "2018-01-04 09:07:35: Cost after epoch 8: 1.260475\n",
      "2018-01-04 09:08:40: Cost after epoch 9: 1.180428\n",
      "2018-01-04 09:09:46: Cost after epoch 10: 1.109371\n",
      "2018-01-04 09:10:52: Cost after epoch 11: 1.058131\n",
      "2018-01-04 09:11:58: Cost after epoch 12: 0.995226\n",
      "2018-01-04 09:13:04: Cost after epoch 13: 0.956141\n",
      "2018-01-04 09:14:10: Cost after epoch 14: 0.915367\n",
      "2018-01-04 09:15:15: Cost after epoch 15: 0.868854\n",
      "2018-01-04 09:16:21: Cost after epoch 16: 0.857897\n",
      "2018-01-04 09:17:28: Cost after epoch 17: 0.815753\n",
      "2018-01-04 09:18:34: Cost after epoch 18: 0.787724\n",
      "2018-01-04 09:19:40: Cost after epoch 19: 0.762876\n",
      "2018-01-04 09:20:47: Cost after epoch 20: 0.756782\n",
      "2018-01-04 09:21:52: Cost after epoch 21: 0.713669\n",
      "2018-01-04 09:22:58: Cost after epoch 22: 0.679858\n",
      "2018-01-04 09:24:04: Cost after epoch 23: 0.676655\n",
      "2018-01-04 09:25:10: Cost after epoch 24: 0.635792\n",
      "2018-01-04 09:26:15: Cost after epoch 25: 0.650293\n",
      "2018-01-04 09:27:21: Cost after epoch 26: 0.681165\n",
      "2018-01-04 09:28:27: Cost after epoch 27: 0.649024\n",
      "2018-01-04 09:29:33: Cost after epoch 28: 0.606861\n",
      "2018-01-04 09:30:38: Cost after epoch 29: 0.566579\n",
      "2018-01-04 09:31:44: Cost after epoch 30: 0.561014\n",
      "2018-01-04 09:32:50: Cost after epoch 31: 0.562964\n",
      "2018-01-04 09:33:56: Cost after epoch 32: 0.545746\n",
      "2018-01-04 09:35:01: Cost after epoch 33: 0.524013\n",
      "2018-01-04 09:36:07: Cost after epoch 34: 0.541064\n",
      "2018-01-04 09:37:13: Cost after epoch 35: 0.546322\n",
      "2018-01-04 09:38:19: Cost after epoch 36: 0.515132\n",
      "2018-01-04 09:39:25: Cost after epoch 37: 0.492907\n",
      "2018-01-04 09:40:30: Cost after epoch 38: 0.480975\n",
      "2018-01-04 09:41:36: Cost after epoch 39: 0.480107\n",
      "2018-01-04 09:42:42: Cost after epoch 40: 0.461168\n",
      "2018-01-04 09:43:47: Cost after epoch 41: 0.498665\n",
      "2018-01-04 09:44:53: Cost after epoch 42: 0.483158\n",
      "2018-01-04 09:45:59: Cost after epoch 43: 0.479439\n",
      "2018-01-04 09:47:04: Cost after epoch 44: 0.497089\n",
      "2018-01-04 09:48:11: Cost after epoch 45: 0.456449\n",
      "2018-01-04 09:49:16: Cost after epoch 46: 0.411808\n",
      "2018-01-04 09:50:22: Cost after epoch 47: 0.407111\n",
      "2018-01-04 09:51:28: Cost after epoch 48: 0.401214\n",
      "2018-01-04 09:52:34: Cost after epoch 49: 0.440881\n",
      "2018-01-04 09:53:39: Cost after epoch 50: 0.475378\n",
      "2018-01-04 09:54:45: Cost after epoch 51: 0.435961\n",
      "2018-01-04 09:55:51: Cost after epoch 52: 0.388614\n",
      "2018-01-04 09:56:57: Cost after epoch 53: 0.358064\n",
      "2018-01-04 09:58:02: Cost after epoch 54: 0.396765\n",
      "2018-01-04 09:59:08: Cost after epoch 55: 0.425200\n",
      "2018-01-04 10:00:14: Cost after epoch 56: 0.377592\n",
      "2018-01-04 10:01:20: Cost after epoch 57: 0.368942\n",
      "2018-01-04 10:02:26: Cost after epoch 58: 0.376179\n",
      "2018-01-04 10:03:32: Cost after epoch 59: 0.341830\n",
      "2018-01-04 10:04:37: Cost after epoch 60: 0.418040\n",
      "2018-01-04 10:05:43: Cost after epoch 61: 0.378031\n",
      "2018-01-04 10:06:48: Cost after epoch 62: 0.360696\n",
      "2018-01-04 10:07:54: Cost after epoch 63: 0.346959\n",
      "2018-01-04 10:08:59: Cost after epoch 64: 0.330611\n",
      "2018-01-04 10:10:05: Cost after epoch 65: 0.350502\n",
      "2018-01-04 10:11:11: Cost after epoch 66: 0.320776\n",
      "2018-01-04 10:12:17: Cost after epoch 67: 0.324028\n",
      "2018-01-04 10:13:22: Cost after epoch 68: 0.372380\n",
      "2018-01-04 10:14:28: Cost after epoch 69: 0.334770\n",
      "2018-01-04 10:15:33: Cost after epoch 70: 0.323316\n",
      "2018-01-04 10:16:39: Cost after epoch 71: 0.314573\n",
      "2018-01-04 10:17:45: Cost after epoch 72: 0.328583\n",
      "2018-01-04 10:18:51: Cost after epoch 73: 0.342560\n",
      "2018-01-04 10:19:57: Cost after epoch 74: 0.295163\n",
      "2018-01-04 10:21:02: Cost after epoch 75: 0.303714\n",
      "2018-01-04 10:22:07: Cost after epoch 76: 0.279682\n",
      "2018-01-04 10:23:13: Cost after epoch 77: 0.292762\n",
      "2018-01-04 10:24:19: Cost after epoch 78: 0.273703\n",
      "2018-01-04 10:25:25: Cost after epoch 79: 0.337216\n",
      "2018-01-04 10:26:31: Cost after epoch 80: 0.291159\n",
      "2018-01-04 10:27:36: Cost after epoch 81: 0.274340\n",
      "2018-01-04 10:28:42: Cost after epoch 82: 0.275537\n",
      "2018-01-04 10:29:48: Cost after epoch 83: 0.287421\n",
      "2018-01-04 10:30:54: Cost after epoch 84: 0.287695\n",
      "2018-01-04 10:32:00: Cost after epoch 85: 0.263942\n",
      "2018-01-04 10:33:06: Cost after epoch 86: 0.282452\n",
      "2018-01-04 10:34:11: Cost after epoch 87: 0.297683\n",
      "2018-01-04 10:35:17: Cost after epoch 88: 0.302917\n",
      "2018-01-04 10:36:23: Cost after epoch 89: 0.244739\n",
      "2018-01-04 10:37:29: Cost after epoch 90: 0.311202\n",
      "2018-01-04 10:38:34: Cost after epoch 91: 0.245966\n",
      "2018-01-04 10:39:40: Cost after epoch 92: 0.251805\n",
      "2018-01-04 10:40:46: Cost after epoch 93: 0.226847\n",
      "2018-01-04 10:41:52: Cost after epoch 94: 0.278148\n",
      "2018-01-04 10:42:58: Cost after epoch 95: 0.275546\n",
      "2018-01-04 10:44:04: Cost after epoch 96: 0.277893\n",
      "2018-01-04 10:45:10: Cost after epoch 97: 0.260896\n",
      "2018-01-04 10:46:16: Cost after epoch 98: 0.255108\n",
      "2018-01-04 10:47:22: Cost after epoch 99: 0.250997\n"
     ]
    },
    {
     "data": {
      "image/png": "[encoded data removed]",
      "text/plain": [
       "<matplotlib.figure.Figure at 0x201c850>"
      ]
     },
     "metadata": {},
     "output_type": "display_data"
    }
   ],
   "source": [
    "Z3, X, Y, parameters = model(sess, X_train, Y_train, X_test, Y_test, minibatch_size = 256, num_epochs = 100)"
   ]
  },
  {
   "cell_type": "markdown",
   "metadata": {},
   "source": [
    "### Save profilind data to disk"
   ]
  },
  {
   "cell_type": "code",
   "execution_count": 18,
   "metadata": {},
   "outputs": [],
   "source": [
    "# Create the Timeline object, and write it to a json file\n",
    "fetched_timeline = timeline.Timeline(run_metadata.step_stats)\n",
    "chrome_trace = fetched_timeline.generate_chrome_trace_format()\n",
    "time_id = int(time())\n",
    "with open('../experiments/timeline_256b_15e_gpu0_%s.json' % (time_id,), 'w') as f:\n",
    "    f.write(chrome_trace)"
   ]
  },
  {
   "cell_type": "markdown",
   "metadata": {},
   "source": [
    "## Save model to disk"
   ]
  },
  {
   "cell_type": "code",
   "execution_count": null,
   "metadata": {},
   "outputs": [],
   "source": [
    "# saver = tf.train.Saver()\n",
    "# saver.save(sess, '../saved_models/cnn-tf-model')\n",
    "\n",
    "meta_graph_def = tf.train.export_meta_graph(filename='../saved_models/my-cnn-tf-model.meta')\n",
    "meta_graph_def"
   ]
  },
  {
   "cell_type": "code",
   "execution_count": 19,
   "metadata": {},
   "outputs": [
    {
     "name": "stdout",
     "output_type": "stream",
     "text": [
      "W1 = [ 3.61501765 -2.38024473  1.26850009 -2.43922925 -2.17123342  1.85708487\n",
      " -2.77779675  2.41049075]\n"
     ]
    }
   ],
   "source": [
    "print(\"W1 = \" + str(parameters[\"W1\"].eval()[0,0,0]))"
   ]
  },
  {
   "cell_type": "code",
   "execution_count": null,
   "metadata": {},
   "outputs": [],
   "source": [
    "print(tf.train.latest_checkpoint('../saved_models/'))"
   ]
  },
  {
   "cell_type": "code",
   "execution_count": 32,
   "metadata": {},
   "outputs": [],
   "source": [
    "def model_accuracy(X_train, Y_train, Z3, X, Y, minibatch_size = 64, print_progress = True):\n",
    "    predict_op = tf.argmax(Z3, 1)\n",
    "    correct_prediction = tf.equal(predict_op, tf.argmax(Y, 1))\n",
    "    accuracy = tf.reduce_mean(tf.cast(correct_prediction, \"float\"))\n",
    "    \n",
    "    num_minibatches = 0\n",
    "    acc_accuracy = 0\n",
    "    minibatches = random_mini_batches(X_train, Y_train, minibatch_size)\n",
    "    for minibatch in minibatches:\n",
    "        (minibatch_X, minibatch_Y) = minibatch\n",
    "        acc_accuracy += accuracy.eval({X: minibatch_X, Y: minibatch_Y})\n",
    "        num_minibatches += 1\n",
    "        \n",
    "        if num_minibatches % 5 == 0:\n",
    "            print(\"%s: Accuracy after %ith batch: %f\" % (datetime.datetime.now().strftime('%Y-%m-%d %H:%M:%S'), num_minibatches, acc_accuracy / num_minibatches))\n",
    "\n",
    "    train_accuracy = acc_accuracy / num_minibatches\n",
    "    print(\"Accuracy:\", train_accuracy)\n",
    "\n",
    "    return train_accuracy"
   ]
  },
  {
   "cell_type": "code",
   "execution_count": 21,
   "metadata": {},
   "outputs": [
    {
     "data": {
      "text/plain": [
       "[_DeviceAttributes(/job:localhost/replica:0/task:0/device:CPU:0, CPU, 268435456)]"
      ]
     },
     "execution_count": 21,
     "metadata": {},
     "output_type": "execute_result"
    }
   ],
   "source": [
    "sess.list_devices()"
   ]
  },
  {
   "cell_type": "code",
   "execution_count": 35,
   "metadata": {},
   "outputs": [
    {
     "name": "stdout",
     "output_type": "stream",
     "text": [
      "2018-01-04 12:39:02: Accuracy after 5th batch: 0.933594\n",
      "2018-01-04 12:39:03: Accuracy after 10th batch: 0.931641\n",
      "2018-01-04 12:39:03: Accuracy after 15th batch: 0.926562\n",
      "2018-01-04 12:39:03: Accuracy after 20th batch: 0.926758\n",
      "2018-01-04 12:39:04: Accuracy after 25th batch: 0.928594\n",
      "2018-01-04 12:39:04: Accuracy after 30th batch: 0.929948\n",
      "2018-01-04 12:39:05: Accuracy after 35th batch: 0.928237\n",
      "2018-01-04 12:39:05: Accuracy after 40th batch: 0.928613\n",
      "2018-01-04 12:39:06: Accuracy after 45th batch: 0.928212\n",
      "2018-01-04 12:39:06: Accuracy after 50th batch: 0.928828\n",
      "2018-01-04 12:39:06: Accuracy after 55th batch: 0.928551\n",
      "2018-01-04 12:39:07: Accuracy after 60th batch: 0.929167\n",
      "2018-01-04 12:39:07: Accuracy after 65th batch: 0.929087\n",
      "2018-01-04 12:39:08: Accuracy after 70th batch: 0.928962\n",
      "2018-01-04 12:39:08: Accuracy after 75th batch: 0.928125\n",
      "2018-01-04 12:39:09: Accuracy after 80th batch: 0.927393\n",
      "2018-01-04 12:39:09: Accuracy after 85th batch: 0.927574\n",
      "2018-01-04 12:39:09: Accuracy after 90th batch: 0.927517\n",
      "2018-01-04 12:39:10: Accuracy after 95th batch: 0.928207\n",
      "2018-01-04 12:39:10: Accuracy after 100th batch: 0.928555\n",
      "2018-01-04 12:39:11: Accuracy after 105th batch: 0.928609\n",
      "2018-01-04 12:39:11: Accuracy after 110th batch: 0.928729\n",
      "2018-01-04 12:39:12: Accuracy after 115th batch: 0.929314\n",
      "2018-01-04 12:39:12: Accuracy after 120th batch: 0.929427\n",
      "2018-01-04 12:39:12: Accuracy after 125th batch: 0.928625\n",
      "2018-01-04 12:39:13: Accuracy after 130th batch: 0.929207\n",
      "2018-01-04 12:39:13: Accuracy after 135th batch: 0.929659\n",
      "2018-01-04 12:39:14: Accuracy after 140th batch: 0.929967\n",
      "2018-01-04 12:39:14: Accuracy after 145th batch: 0.930038\n",
      "2018-01-04 12:39:15: Accuracy after 150th batch: 0.930130\n",
      "2018-01-04 12:39:15: Accuracy after 155th batch: 0.930040\n",
      "2018-01-04 12:39:15: Accuracy after 160th batch: 0.929956\n",
      "2018-01-04 12:39:16: Accuracy after 165th batch: 0.929995\n",
      "2018-01-04 12:39:16: Accuracy after 170th batch: 0.930055\n",
      "2018-01-04 12:39:17: Accuracy after 175th batch: 0.929576\n",
      "2018-01-04 12:39:17: Accuracy after 180th batch: 0.929601\n",
      "2018-01-04 12:39:17: Accuracy after 185th batch: 0.929413\n",
      "2018-01-04 12:39:18: Accuracy after 190th batch: 0.929626\n",
      "2018-01-04 12:39:18: Accuracy after 195th batch: 0.929447\n",
      "2018-01-04 12:39:19: Accuracy after 200th batch: 0.929688\n",
      "2018-01-04 12:39:19: Accuracy after 205th batch: 0.929364\n",
      "2018-01-04 12:39:20: Accuracy after 210th batch: 0.929260\n",
      "2018-01-04 12:39:20: Accuracy after 215th batch: 0.929142\n",
      "2018-01-04 12:39:20: Accuracy after 220th batch: 0.929208\n",
      "2018-01-04 12:39:21: Accuracy after 225th batch: 0.929306\n",
      "('Accuracy:', 0.92930957335129116)\n"
     ]
    },
    {
     "data": {
      "text/plain": [
       "0.92930957335129116"
      ]
     },
     "execution_count": 35,
     "metadata": {},
     "output_type": "execute_result"
    }
   ],
   "source": [
    "# train_accuracy, test_accuracy = model_accuracy(X_train, Y_train, X_test, Y_test, Z3, X, Y)\n",
    "# test_accuracy = model_accuracy(X_train, Y_train, X_test, Y_test, Z3, X, Y)\n",
    "model_accuracy(X_train, Y_train, Z3, X, Y, minibatch_size = 256)"
   ]
  },
  {
   "cell_type": "code",
   "execution_count": 33,
   "metadata": {},
   "outputs": [
    {
     "name": "stdout",
     "output_type": "stream",
     "text": [
      "2018-01-04 12:38:43: Accuracy after 5th batch: 0.265625\n",
      "2018-01-04 12:38:43: Accuracy after 10th batch: 0.270703\n",
      "2018-01-04 12:38:43: Accuracy after 15th batch: 0.271615\n",
      "2018-01-04 12:38:44: Accuracy after 20th batch: 0.265039\n",
      "2018-01-04 12:38:44: Accuracy after 25th batch: 0.265781\n",
      "('Accuracy:', 0.26398882040610683)\n"
     ]
    },
    {
     "data": {
      "text/plain": [
       "0.26398882040610683"
      ]
     },
     "execution_count": 33,
     "metadata": {},
     "output_type": "execute_result"
    }
   ],
   "source": [
    "model_accuracy(X_test, Y_test, Z3, X, Y, minibatch_size = 256)"
   ]
  },
  {
   "cell_type": "markdown",
   "metadata": {},
   "source": [
    "## Inference\n",
    "\n",
    "- Convert audio file to vector and reshape\n",
    "- Do forward prop\n",
    "- Find the maximal class\n",
    "- Remap index to class name"
   ]
  },
  {
   "cell_type": "code",
   "execution_count": 59,
   "metadata": {},
   "outputs": [],
   "source": [
    "def inference(audio_file, Z3):\n",
    "    ra = load_wav_file(os.path.abspath(audio_file))\n",
    "    x = ra.reshape(1, ra.shape[0], 1, 1)\n",
    "    y_hat = tf.argmax(Z3, 1)\n",
    "    prediction = sess.run(y_hat, feed_dict = {X: x})\n",
    "    return classes[prediction[0]]"
   ]
  },
  {
   "cell_type": "code",
   "execution_count": 58,
   "metadata": {},
   "outputs": [
    {
     "name": "stdout",
     "output_type": "stream",
     "text": [
      "bed\n",
      "down\n"
     ]
    }
   ],
   "source": [
    "print(inference(\"../data/train/audio/bed/0a7c2a8d_nohash_0.wav\", Z3))\n",
    "print(inference(\"../data/train/audio/down/0a7c2a8d_nohash_0.wav\", Z3))"
   ]
  },
  {
   "cell_type": "code",
   "execution_count": null,
   "metadata": {},
   "outputs": [],
   "source": []
  }
 ],
 "metadata": {
  "kernelspec": {
   "display_name": "Python 3",
   "language": "python",
   "name": "python3"
  },
  "language_info": {
   "codemirror_mode": {
    "name": "ipython",
    "version": 2
   },
   "file_extension": ".py",
   "mimetype": "text/x-python",
   "name": "python",
   "nbconvert_exporter": "python",
   "pygments_lexer": "ipython2",
   "version": "2.7.5"
  }
 },
 "nbformat": 4,
 "nbformat_minor": 2
}
